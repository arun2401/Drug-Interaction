{
 "cells": [
  {
   "cell_type": "code",
   "execution_count": 9,
   "id": "368595d1-5857-4447-9600-1e470168647b",
   "metadata": {},
   "outputs": [],
   "source": [
    "import pandas as pd\n",
    "from typing import List, Dict\n"
   ]
  },
  {
   "cell_type": "code",
   "execution_count": 10,
   "id": "00362928-e2dd-41a0-bfa3-22829b088889",
   "metadata": {},
   "outputs": [],
   "source": [
    "class DrugDatabase:\n",
    "    def __init__(self, csv_path: str):\n",
    "        self.interactions = {}\n",
    "        self.load_dataset(csv_path)\n",
    "\n",
    "    def load_dataset(self, csv_path: str):\n",
    "        df = pd.read_csv(csv_path)\n",
    "        for _, row in df.iterrows():\n",
    "            d1 = self.standardize_name(row['Drug1'])\n",
    "            d2 = self.standardize_name(row['Drug2'])\n",
    "            key = tuple(sorted((d1, d2)))\n",
    "            self.interactions[key] = {\n",
    "                'interaction_type': row.get('interaction_type', ''),\n",
    "                'description': row.get('description', 'No description.'),\n",
    "                'severity': row.get('severity', 'unknown').lower()\n",
    "            }\n",
    "\n",
    "    def standardize_name(self, name: str) -> str:\n",
    "        return name.strip().lower()\n",
    "\n",
    "    def get_interaction(self, Drug1: str, Drug2: str) -> Dict:\n",
    "        key = tuple(sorted((self.standardize_name(Drug1), self.standardize_name(Drug2))))\n",
    "        return self.interactions.get(key, None)\n"
   ]
  },
  {
   "cell_type": "code",
   "execution_count": 11,
   "id": "57aeb26e-2282-41b4-9578-9930f7ece6e8",
   "metadata": {},
   "outputs": [],
   "source": [
    "class InteractionChecker:\n",
    "    def __init__(self, db: DrugDatabase):\n",
    "        self.db = db\n",
    "\n",
    "    def check(self, medications: List[str]) -> List[Dict]:\n",
    "        standardized = [self.db.standardize_name(med) for med in medications]\n",
    "        interactions_found = []\n",
    "\n",
    "        for i in range(len(standardized)):\n",
    "            for j in range(i + 1, len(standardized)):\n",
    "                interaction = self.db.get_interaction(standardized[i], standardized[j])\n",
    "                if interaction:\n",
    "                    interactions_found.append({\n",
    "                        'Drug1': medications[i],\n",
    "                        'Drug2': medications[j],\n",
    "                        'severity': interaction['severity'],\n",
    "                        'description': interaction['description']\n",
    "                    })\n",
    "        return interactions_found\n"
   ]
  },
  {
   "cell_type": "code",
   "execution_count": 12,
   "id": "0dcd52b6-28eb-43cf-9fe4-e01fc26b6e2a",
   "metadata": {},
   "outputs": [],
   "source": [
    "class AlertSystem:\n",
    "    def __init__(self):\n",
    "        self.severity_rank = {'high': 1, 'moderate': 2, 'low': 3, 'unknown': 4}\n",
    "\n",
    "    def sort_alerts(self, interactions: List[Dict]) -> List[Dict]:\n",
    "        return sorted(interactions, key=lambda x: self.severity_rank.get(x['severity'], 4))\n",
    "\n",
    "    def display(self, interactions: List[Dict]):\n",
    "        if not interactions:\n",
    "            print(\" No significant drug interactions found.\")\n",
    "            return\n",
    "        print(\" Interaction Warnings:\")\n",
    "        for inter in interactions:\n",
    "            print(f\"[{inter['severity'].upper()}] {inter['Drug1']} + {inter['Drug2']} → {inter['description']}\")\n"
   ]
  },
  {
   "cell_type": "code",
   "execution_count": 13,
   "id": "0b1ce196-54e3-4c66-a4a0-18e961c50001",
   "metadata": {},
   "outputs": [
    {
     "name": "stdout",
     "output_type": "stream",
     "text": [
      "\n",
      " Checking medications: Aspirin, Warfarin, Lisinopril, Ibuprofen, Amiodarone, Metformin, Simvastatin, Clarithromycin\n",
      "\n",
      " Interaction Warnings:\n",
      "[UNKNOWN] Warfarin + Ibuprofen → Warfarin may increase the anticoagulant activities of Ibuprofen.\n",
      "[UNKNOWN] Warfarin + Amiodarone → Warfarin may increase the anticoagulant activities of Amiodarone.\n",
      "[UNKNOWN] Warfarin + Simvastatin → Warfarin may increase the anticoagulant activities of Simvastatin.\n",
      "[UNKNOWN] Warfarin + Clarithromycin → The metabolism of Clarithromycin can be decreased when combined with Warfarin.\n",
      "[UNKNOWN] Lisinopril + Ibuprofen → The risk or severity of adverse effects can be increased when Lisinopril is combined with Ibuprofen.\n",
      "[UNKNOWN] Lisinopril + Amiodarone → The risk or severity of adverse effects can be increased when Amiodarone is combined with Lisinopril.\n",
      "[UNKNOWN] Lisinopril + Simvastatin → The serum concentration of Lisinopril can be increased when it is combined with Simvastatin.\n",
      "[UNKNOWN] Lisinopril + Clarithromycin → The therapeutic efficacy of Clarithromycin can be decreased when used in combination with Lisinopril.\n",
      "[UNKNOWN] Ibuprofen + Amiodarone → The metabolism of Amiodarone can be decreased when combined with Ibuprofen.\n",
      "[UNKNOWN] Amiodarone + Simvastatin → The metabolism of Amiodarone can be decreased when combined with Simvastatin.\n",
      "[UNKNOWN] Amiodarone + Clarithromycin → The metabolism of Clarithromycin can be decreased when combined with Amiodarone.\n",
      "[UNKNOWN] Simvastatin + Clarithromycin → The serum concentration of Clarithromycin can be increased when it is combined with Simvastatin.\n"
     ]
    }
   ],
   "source": [
    "\n",
    "csv_path = r\"C:\\med_interaction_checker\\Drug-Interaction\\db_drug_interactions.csv\"  \n",
    "\n",
    "db = DrugDatabase(csv_path)\n",
    "checker = InteractionChecker(db)\n",
    "alerter = AlertSystem()\n",
    "\n",
    "patient_meds =patient_meds = [\n",
    "    \"Aspirin\",         \n",
    "    \"Warfarin\",       \n",
    "    \"Lisinopril\",      \n",
    "    \"Ibuprofen\",       \n",
    "    \"Amiodarone\",      \n",
    "    \"Metformin\",      \n",
    "    \"Simvastatin\",    \n",
    "    \"Clarithromycin\"  \n",
    "] \n",
    "\n",
    "\n",
    "print(f\"\\n Checking medications: {', '.join(patient_meds)}\\n\")\n",
    "interactions = checker.check(patient_meds)\n",
    "sorted_alerts = alerter.sort_alerts(interactions)\n",
    "alerter.display(sorted_alerts)\n"
   ]
  },
  {
   "cell_type": "code",
   "execution_count": 14,
   "id": "3da6f001-4379-464a-bda9-bc9ca4cf5f26",
   "metadata": {},
   "outputs": [
    {
     "name": "stdout",
     "output_type": "stream",
     "text": [
      " Available medications in the database:\n",
      "abacavir, abemaciclib, abiraterone, acarbose, acebutolol, aceclofenac, acemetacin, acenocoumarol, acepromazine, aceprometazine, acetaminophen, acetazolamide, acetohydroxamic acid, acetophenazine, acetylcholine, acetyldigitoxin, acetylsalicylic acid, acipimox, acitretin, aclidinium, acrivastine, activated charcoal, acyclovir, adapalene, adefovir dipivoxil, adenosine, adinazolam, afatinib, agomelatine, ajmaline, albendazole, alcaftadine, alclofenac, alclometasone, alectinib, alendronic acid, alfacalcidol, alfentanil, alfuzosin, alimemazine, aliskiren, alitretinoin, allopurinol, allylestrenol, almasilate, almotriptan, alogliptin, alosetron, alprazolam, alprenolol, alprostadil, altretamine, aluminium, aluminum hydroxide, aluminum oxide, aluminum sulfate, alvimopan, amantadine, ambenonium, ambrisentan, ambroxol, amcinonide, amifostine, amikacin, amiloride, aminocaproic acid, aminoglutethimide, aminohippuric acid, aminolevulinic acid, aminophenazone, aminophylline, aminosalicylic acid, amiodarone, amisulpride, amitriptyline, amlodipine, ammonium chloride, amobarbital, amodiaquine, amoxapine, amoxicillin, amphetamine, amphotericin b, ampicillin, amprenavir, amrinone, amrubicin, amsacrine, amyl nitrite, anagrelide, anastrozole, anidulafungin, anisotropine methylbromide, antazoline, antipyrine, apixaban, apomorphine, apraclonidine, apremilast, aprepitant, aprindine, arbekacin, arbutamine, arformoterol, argatroban, aripiprazole, armodafinil, arotinolol, arsenic trioxide, artemether, artesunate, articaine, ascorbic acid, asenapine, astemizole, asunaprevir, atazanavir, atenolol, atomoxetine, atorvastatin, atovaquone, atracurium besylate, atropine, avanafil, avibactam, axitinib, azacitidine, azatadine, azathioprine, azelaic acid, azelastine, azelnidipine, azidocillin, azilsartan medoxomil, azithromycin, azlocillin, aztreonam, bacampicillin, bacitracin, baclofen, balsalazide, bambuterol, baricitinib, barnidipine, bazedoxifene, beclomethasone dipropionate, bedaquiline, belinostat, benazepril, bendamustine, bendroflumethiazide, benidipine, benzatropine, benznidazole, benzocaine, benzoctamine, benzoic acid, benzophenone, benzoyl peroxide, benzphetamine, benzthiazide, benzydamine, benzyl alcohol, benzylpenicillin, bepridil, besifloxacin, betahistine, betamethasone, betaxolol, bethanechol, bethanidine, betrixaban, bevantolol, bexarotene, bezafibrate, bicalutamide, bifonazole, bimatoprost, biperiden, bisacodyl, bismuth subcitrate potassium, bismuth subsalicylate, bisoprolol, bivalirudin, bleomycin, blonanserin, boceprevir, bopindolol, bortezomib, bosentan, bosutinib, bretylium, brexpiprazole, brigatinib, brimonidine, brinzolamide, brivaracetam, bromazepam, bromfenac, bromocriptine, bromopride, brompheniramine, brotizolam, buclizine, budesonide, bumetanide, bupivacaine, bupranolol, buprenorphine, bupropion, buspirone, busulfan, butabarbital, butalbital, butamben, butenafine, butobarbital, butoconazole, butorphanol, butylscopolamine, cabazitaxel, cabergoline, cabozantinib, caffeine, calcifediol, calcipotriol, calcitriol, calcium acetate, calcium carbonate, calcium chloride, calcium citrate, calcium glubionate anhydrous, calcium glucoheptonate, calcium gluconate, calcium lactate, calcium phosphate, camazepam, canagliflozin, candesartan cilexetil, cangrelor, cannabidiol, canrenoic acid, capecitabine, capreomycin, capsaicin, captodiame, captopril, carbamazepine, carbamoylcholine, carbenicillin, carbetocin, carbidopa, carbimazole, carbinoxamine, carbocisteine, carboplatin, carboprost tromethamine, carfilzomib, cariprazine, carisoprodol, carmustine, carprofen, carteolol, carvedilol, caspofungin, cefacetrile, cefaclor, cefadroxil, cefaloridine, cefalotin, cefamandole, cefapirin, cefazolin, cefdinir, cefditoren, cefepime, cefixime, cefmenoxime, cefmetazole, cefonicid, cefoperazone, ceforanide, cefotaxime, cefotetan, cefotiam, cefoxitin, cefpiramide, cefpodoxime, cefprozil, cefradine, ceftazidime, ceftibuten, ceftizoxime, ceftobiprole, ceftriaxone, cefuroxime, celecoxib, celiprolol, cephalexin, cephaloglycin, ceritinib, cerulenin, cetirizine, cevimeline, chenodeoxycholic acid, chloral hydrate, chlorambucil, chloramphenicol, chlordiazepoxide, chlormezanone, chloroprocaine, chloropyramine, chloroquine, chlorothiazide, chloroxine, chloroxylenol, chlorphenesin, chlorpheniramine, chlorpromazine, chlorpropamide, chlorprothixene, chlortetracycline, chlorthalidone, chlorzoxazone, cholecalciferol, cholic acid, choline, choline c 11, choline magnesium trisalicylate, chromium, ciclesonide, ciclopirox, cidofovir, cilastatin, cilazapril, cilnidipine, cilostazol, cimetidine, cinacalcet, cinchocaine, cinnarizine, cinoxacin, ciprofloxacin, cisapride, cisatracurium, cisplatin, citalopram, citric acid, cladribine, clarithromycin, clavulanic acid, clemastine, clenbuterol, clevidipine, clidinium, clindamycin, clobazam, clobetasol propionate, clobetasone, clocortolone, clodronic acid, clofarabine, clofazimine, clofibrate, clomifene, clomipramine, clomocycline, clonazepam, clonidine, clonixin, clopidogrel, clorazepic acid, clotiazepam, clotrimazole, cloxacillin, cloxazolam, clozapine, cobicistat, cobimetinib, cocaine, codeine, colchicine, colistimethate, colistin, conivaptan, copanlisib, copper, corticorelin ovine triflutate, cortisone acetate, crisaborole, crizotinib, cyamemazine, cyanocobalamin, cyclacillin, cyclizine, cyclobenzaprine, cyclopentolate, cyclophosphamide, cycloserine, cyclosporine, cyclothiazide, cyproheptadine, cyproterone acetate, cysteamine, cytarabine, dabigatran etexilate, dabrafenib, dacarbazine, daclatasvir, dactinomycin, dalfampridine, dalfopristin, danazol, dantrolene, dapagliflozin, dapiprazole, dapsone, daptomycin, darifenacin, darunavir, dasabuvir, dasatinib, daunorubicin, debrisoquine, decamethonium, decitabine, deferasirox, deferiprone, deferoxamine, deflazacort, degarelix, delafloxacin, delavirdine, delorazepam, demecarium, demeclocycline, deoxycholic acid, deserpidine, desflurane, desipramine, deslanoside, desloratadine, desmopressin, desogestrel, desonide, desoximetasone, desvenlafaxine, deutetrabenazine, dexamethasone, dexbrompheniramine, dexchlorpheniramine maleate, dexfenfluramine, dexketoprofen, dexlansoprazole, dexmedetomidine, dexmethylphenidate, dexrazoxane, dextroamphetamine, dextromethorphan, dextropropoxyphene, dezocine, diacerein, diamorphine, diatrizoate, diazepam, diazoxide, diclofenac, diclofenamide, dicloxacillin, dicoumarol, dicyclomine, didanosine, dienestrol, dienogest, diethylcarbamazine, diethylpropion, diethylstilbestrol, difenoxin, diflorasone, diflunisal, difluocortolone, difluprednate, digitoxin, digoxin, dihydrocodeine, dihydroergotamine, dihydrotachysterol, diltiazem, dimenhydrinate, dimercaprol, dimetacrine, dimethyl fumarate, dimethyl sulfoxide, dimetindene, dimetotiazine, dinoprost tromethamine, dinoprostone, diphenhydramine, diphenoxylate, dipivefrin, dipotassium phosphate, dipyridamole, dirithromycin, disopyramide, disulfiram, ditazole, dobutamine, docetaxel, doconexent, dofetilide, dolasetron, dolutegravir, domperidone, donepezil, dopamine, doripenem, dorzolamide, dosulepin, dotatate gallium ga-68, doxacurium, doxapram, doxazosin, doxepin, doxercalciferol, doxofylline, doxorubicin, doxycycline, doxylamine, dronabinol, dronedarone, droperidol, drospirenone, droxicam, droxidopa, duloxetine, dutasteride, dyclonine, dydrogesterone, dyphylline, ecabet, echothiophate, econazole, edetic acid, edoxaban, edrophonium, efavirenz, efinaconazole, eflornithine, efonidipine, elbasvir, eletriptan, eliglustat, eltrombopag, eluxadoline, elvitegravir, emedastine, empagliflozin, emtricitabine, enalapril, enalaprilat, enasidenib, encainide, enflurane, enoxacin, entacapone, entecavir, enviomycin, enzalutamide, eperisone, ephedrine, epinastine, epinephrine, epirizole, epirubicin, eplerenone, epoprostenol, eprosartan, equilin, ergocalciferol, ergometrine, ergotamine, eribulin, erlotinib, ertapenem, erythrityl tetranitrate, erythromycin, escitalopram, eslicarbazepine acetate, esmolol, esomeprazole, estazolam, estradiol, estramustine, estriol, estrone, estrone sulfate, eszopiclone, etacrynic acid, ethambutol, ethanol, ethanolamine oleate, ethchlorvynol, ethinylestradiol, ethionamide, ethosuximide, ethotoin, ethyl loflazepate, ethylmorphine, ethynodiol diacetate, etidocaine, etidronic acid, etizolam, etodolac, etofenamate, etofibrate, etomidate, etonogestrel, etoposide, etoricoxib, etravirine, everolimus, exemestane, ezetimibe, ezogabine, famciclovir, famotidine, febuxostat, felbamate, felodipine, fenbufen, fencamfamin, fenofibrate, fenofibric acid, fenoldopam, fenoprofen, fenoterol, fentanyl, ferric pyrophosphate, fesoterodine, fexofenadine, fidaxomicin, fimasartan, finafloxacin, finasteride, fingolimod, flecainide, fleroxacin, flibanserin, floctafenine, floxuridine, flubendazole, fluciclovine (18f), flucloxacillin, fluconazole, flucytosine, fludarabine, fludiazepam, fludrocortisone, flumazenil, flumethasone, flunarizine, flunisolide, flunitrazepam, fluocinolone acetonide, fluocinonide, fluocortolone, fluorometholone, fluorouracil, fluoxetine, fluoxymesterone, flupentixol, fluphenazine, fluprednidene, flurandrenolide, flurazepam, flurbiprofen, fluspirilene, flutamide, fluticasone furoate, fluticasone propionate, fluvastatin, fluvoxamine, folic acid, fomepizole, fondaparinux, formestane, formoterol, fosamprenavir, fosaprepitant, foscarnet, fosfomycin, fosinopril, fosphenytoin, fospropofol, framycetin, frovatriptan, fulvestrant, furazolidone, furosemide, fusafungine, fusidic acid, gabapentin, gabapentin enacarbil, gadobenic acid, gadoxetic acid, galantamine, gallamine triethiodide, gallium nitrate, gamma-hydroxybutyric acid, ganciclovir, gatifloxacin, gefitinib, gemcitabine, gemeprost, gemfibrozil, gemifloxacin, gentamicin, gestodene, gestrinone, gimeracil, glecaprevir, gliclazide, glimepiride, glipizide, gliquidone, glisoxepide, glucosamine, glutamic acid, glutethimide, glyburide, glycerin, glycerol phenylbutyrate, glycopyrronium, goserelin, gramicidin d, granisetron, grazoprevir, griseofulvin, guanabenz, guanadrel, guanethidine, guanfacine, halazepam, halcinonide, halofantrine, haloperidol, haloprogin, halothane, hesperetin, hexaminolevulinate, hexetidine, hexobarbital, hexoprenaline, hexylresorcinol, histamine, histrelin, hydralazine, hydrochlorothiazide, hydrocodone, hydrocortamate, hydrocortisone, hydroflumethiazide, hydromorphone, hydroxyamphetamine, hydroxychloroquine, hydroxyprogesterone caproate, hydroxyurea, hydroxyzine, hyoscyamine, ibandronate, ibrutinib, ibudilast, ibuprofen, ibutilide, icatibant, icosapent ethyl, icotinib, idarubicin, idelalisib, ifenprodil, ifosfamide, iloperidone, iloprost, imatinib, imidafenacin, imipenem, imipramine, imiquimod, indacaterol, indapamide, indinavir, indomethacin, iobenguane, iodide i-131, iodipamide, iodixanol, ioflupane i-123, iohexol, iopamidol, iopromide, ioversol, ioxilan, ipratropium, irbesartan, irinotecan, iron, iron sucrose, isavuconazole, isavuconazonium, isocarboxazid, isoconazole, isoetharine, isoflurane, isoflurophate, isometheptene, isoniazid, isoprenaline, isosorbide dinitrate, isosorbide mononitrate, isothipendyl, isotretinoin, isoxsuprine, isradipine, itraconazole, ivabradine, ivacaftor, ivermectin, ixabepilone, ixazomib, josamycin, kanamycin, kaolin, ketamine, ketazolam, ketobemidone, ketoconazole, ketoprofen, ketorolac, ketotifen, l-glutamine, labetalol, lacidipine, lacosamide, lactic acid, lactulose, lamivudine, lamotrigine, lanreotide, lansoprazole, lanthanum carbonate, lapatinib, lasofoxifene, latamoxef, latanoprost, latanoprostene bunod, ledipasvir, leflunomide, lenalidomide, lenvatinib, lercanidipine, lesinurad, letermovir, letrozole, leucovorin, levacetylmethadol, levallorphan, levetiracetam, levobunolol, levobupivacaine, levocabastine, levocarnitine, levocetirizine, levodopa, levofloxacin, levoleucovorin, levomefolic acid, levomenol, levomilnacipran, levonordefrin, levonorgestrel, levorphanol, levosalbutamol, levosimendan, levothyroxine, lidocaine, limaprost, linagliptin, lincomycin, linezolid, liothyronine, liotrix, lipoic acid, lisdexamfetamine, lisinopril, lisuride, lithium cation, lixisenatide, lobeglitazone, lodoxamide, lofexidine, lomefloxacin, lomitapide, lomustine, loperamide, lopinavir, loratadine, lorazepam, lorcaserin, lormetazepam, lornoxicam, losartan, loteprednol, lovastatin, loxapine, loxoprofen, lubiprostone, lucanthone, luliconazole, lumacaftor, lumefantrine, lumiracoxib, lurasidone, lycopene, lymecycline, macitentan, mafenide, magaldrate, magnesium cation, magnesium hydroxide, magnesium oxide, magnesium salicylate, magnesium sulfate, magnesium trisilicate, malathion, manidipine, mannitol, maprotiline, maraviroc, masoprocol, mebendazole, mecamylamine, mechlorethamine, meclizine, meclofenamic acid, medrogestone, medroxyprogesterone acetate, medrysone, mefenamic acid, mefloquine, megestrol acetate, melatonin, meloxicam, melperone, melphalan, memantine, menadione, meperidine, mephentermine, mepivacaine, meprobamate, mepyramine, mequinol, mequitazine, mercaptopurine, meropenem, mersalyl, mesalazine, mesoridazine, mestranol, metacycline, metamfetamine, metaraminol, metaxalone, metformin, methacholine, methadone, methadyl acetate, methantheline, methazolamide, methenamine, methimazole, methionine, methocarbamol, methohexital, methotrexate, methotrimeprazine, methoxamine, methoxsalen, methoxyflurane, methscopolamine, methscopolamine bromide, methsuximide, methyclothiazide, methyl aminolevulinate, methyl salicylate, methyldopa, methylene blue, methylergometrine, methylnaltrexone, methylphenidate, methylphenobarbital, methylprednisolone, methyltestosterone, methyprylon, methysergide, meticillin, metipranolol, metixene, metoclopramide, metocurine, metolazone, metoprolol, metrizamide, metronidazole, metyrapone, metyrosine, mexiletine, mezlocillin, mianserin, micafungin, miconazole, midazolam, midodrine, midostaurin, mifepristone, miglitol, miglustat, milnacipran, milrinone, miltefosine, minaprine, minocycline, minoxidil, mipomersen, mirabegron, mirtazapine, misoprostol, mitiglinide, mitomycin, mitotane, mitoxantrone, mivacurium, moclobemide, modafinil, moexipril, molindone, molsidomine, mometasone, montelukast, moricizine, morniflumate, morphine, moxifloxacin, moxonidine, mupirocin, mycophenolate mofetil, mycophenolic acid, nabilone, nabumetone, nadolol, nafamostat, nafarelin, nafcillin, naftifine, nalbuphine, naldemedine, nalidixic acid, naloxegol, naloxone, naltrexone, nandrolone decanoate, naphazoline, naproxen, naratriptan, natamycin, nateglinide, nebivolol, nedaplatin, nefazodone, nelarabine, nelfinavir, neostigmine, nepafenac, neratinib, netilmicin, netupitant, nevirapine, niacin, nicardipine, nicergoline, niclosamide, nicorandil, nicotinamide, nicotine, nifedipine, niflumic acid, nilotinib, nilutamide, nilvadipine, nimesulide, nimodipine, nintedanib, niraparib, nisoldipine, nitrazepam, nitrendipine, nitric oxide, nitrofural, nitrofurantoin, nitroglycerin, nitroprusside, nitrous acid, nitrous oxide, nitroxoline, nizatidine, nomegestrol, nonoxynol-9, norelgestromin, norepinephrine, norethisterone, norfloxacin, norgestimate, norgestrel, normethadone, nortriptyline, novobiocin, nylidrin, nystatin, obeticholic acid, octreotide, ofloxacin, olanzapine, olaparib, olmesartan, olodaterol, olopatadine, olsalazine, omacetaxine mepesuccinate, ombitasvir, omeprazole, ondansetron, orciprenaline, oritavancin, orlistat, orphenadrine, oseltamivir, osimertinib, ospemifene, ouabain, oxacillin, oxaliplatin, oxamniquine, oxandrolone, oxaprozin, oxazepam, oxcarbazepine, oxetacaine, oxiconazole, oxilofrine, oxitriptan, oxprenolol, oxtriphylline, oxybuprocaine, oxybutynin, oxycodone, oxymetazoline, oxymetholone, oxymorphone, oxyphenbutazone, oxyphenonium, oxytetracycline, ozenoxacin, paclitaxel, palbociclib, paliperidone, palmitic acid, palonosetron, pamidronic acid, pancuronium, panobinostat, pantoprazole, papaverine, paraldehyde, paramethadione, paramethasone, parecoxib, pargyline, paricalcitol, paritaprevir, paromomycin, paroxetine, pasireotide, pazopanib, pefloxacin, pemetrexed, pemirolast, penbutolol, penicillamine, pentaerythritol tetranitrate, pentamidine, pentazocine, pentobarbital, pentolinium, pentosan polysulfate, pentostatin, pentoxifylline, perampanel, perflutren, pergolide, perhexiline, periciazine, perindopril, permethrin, perospirone, perphenazine, phenacemide, phenazopyridine, phendimetrazine, phenelzine, phenformin, phenindamine, phenindione, pheniramine, phenmetrazine, phenobarbital, phenoxybenzamine, phenoxymethylpenicillin, phenprocoumon, phensuximide, phentermine, phentolamine, phenylacetic acid, phenylalanine, phenylbutazone, phenylbutyric acid, phenylephrine, phenylpropanolamine, phenytoin, pholcodine, phylloquinone, physostigmine, pibrentasvir, picosulfuric acid, pilocarpine, pimavanserin, pimecrolimus, pimozide, pinaverium, pindolol, pioglitazone, pipamperone, pipazethate, pipecuronium, piperacillin, piperazine, pipobroman, pipotiazine, piracetam, pirbuterol, pirenzepine, pirfenidone, pirlindole, piroxicam, pitavastatin, pivampicillin, pivmecillinam, pixantrone, pizotifen, plicamycin, podofilox, podophyllin, polaprezinc, polymyxin b, polythiazide, pomalidomide, ponatinib, posaconazole, potassium alum, potassium cation, potassium chloride, potassium citrate, potassium iodide, practolol, pralatrexate, pramipexole, pramocaine, pranlukast, prasterone, prasugrel, pravastatin, prazepam, praziquantel, prazosin, prednicarbate, prednisolone, prednisone, pregabalin, prilocaine, primaquine, primidone, probenecid, probucol, procainamide, procaine, procaine benzylpenicillin, procarbazine, procaterol, prochlorperazine, procyclidine, profenamine, progabide, progesterone, proguanil, promazine, promethazine, propacetamol, propafenone, propantheline, proparacaine, propiverine, propofol, propoxycaine, propranolol, propylthiouracil, protocatechualdehyde, protriptyline, prucalopride, pseudoephedrine, pyrantel, pyrazinamide, pyridostigmine, pyridoxine, pyrimethamine, pyrvinium, quazepam, quetiapine, quinacrine, quinagolide, quinapril, quinestrol, quinethazone, quinidine, quinine, quinupristin, rabeprazole, radium ra 223 dichloride, raloxifene, raltegravir, raltitrexed, ramelteon, ramipril, ramosetron, ranitidine, ranolazine, rasagiline, reboxetine, regadenoson, regorafenib, remifentanil, remikiren, remoxipride, repaglinide, rescinnamine, reserpine, resveratrol, retapamulin, ribavirin, ribociclib, riboflavin, ribostamycin, ridogrel, rifabutin, rifampicin, rifapentine, rifaximin, rilpivirine, riluzole, rimexolone, rimonabant, riociguat, risedronic acid, risperidone, ritodrine, ritonavir, rivaroxaban, rivastigmine, rizatriptan, rocuronium, roflumilast, rolapitant, rolitetracycline, romidepsin, ropinirole, ropivacaine, rosiglitazone, rosoxacin, rosuvastatin, rotigotine, roxatidine acetate, roxithromycin, rucaparib, rufinamide, rupatadine, ruxolitinib, sacubitril, safinamide, salbutamol, salicylamide, salicylic acid, salmeterol, salsalate, sapropterin, saquinavir, saxagliptin, scopolamine, secobarbital, selegiline, selenium, selexipag, seratrodast, sertaconazole, sertindole, sertraline, sevelamer, sevoflurane, sibutramine, sildenafil, silodosin, silver sulfadiazine, simeprevir, simvastatin, sirolimus, sitagliptin, sitaxentan, sodium aurothiomalate, sodium bicarbonate, sodium chloride, sodium citrate, sodium glycerophosphate, sodium oxybate, sodium phosphate, monobasic, sodium stibogluconate, sofosbuvir, solifenacin, somatostatin, sonidegib, sorafenib, sotalol, sparfloxacin, spectinomycin, spiramycin, spirapril, spironolactone, stanozolol, stavudine, stepronin, stiripentol, streptomycin, streptozocin, strontium ranelate, succinylcholine, sucralfate, sufentanil, sugammadex, sulbactam, sulconazole, sulfacetamide, sulfacytine, sulfadiazine, sulfadimethoxine, sulfadoxine, sulfamerazine, sulfamethazine, sulfamethizole, sulfamethoxazole, sulfametopyrazine, sulfamoxole, sulfanilamide, sulfaphenazole, sulfapyridine, sulfasalazine, sulfathiazole, sulfinpyrazone, sulfisoxazole, sulindac, sulpiride, sumatriptan, sunitinib, suprofen, suramin, suvorexant, tacrolimus, tadalafil, tafluprost, talniflumate, tamoxifen, tamsulosin, tapentadol, tasimelteon, tasosartan, tavaborole, tazarotene, tazobactam, technetium tc-99m mebrofenin, technetium tc-99m medronate, technetium tc-99m sestamibi, tedizolid phosphate, tegafur, telaprevir, telavancin, telithromycin, telmisartan, temazepam, temoporfin, temozolomide, temsirolimus, teniposide, tenofovir disoproxil, tenoxicam, terazosin, terbinafine, terbutaline, terconazole, teriflunomide, terlipressin, tesamorelin, testolactone, testosterone, testosterone propionate, tetrabenazine, tetracaine, tetracosactide, tetracycline, tetryzoline, thalidomide, theobromine, theophylline, thiabendazole, thiamine, thiamylal, thiopental, thioproperazine, thioridazine, thiosulfuric acid, thiotepa, thiothixene, thonzylamine, thymol, tiagabine, tianeptine, tiapride, tiaprofenic acid, tibolone, ticagrelor, ticarcillin, ticlopidine, tigecycline, tiludronic acid, timolol, tinidazole, tioconazole, tioguanine, tiotropium, tipiracil, tipranavir, tirofiban, titanium dioxide, tixocortol, tizanidine, tobramycin, tofacitinib, tofisopam, tolazamide, tolazoline, tolbutamide, tolcapone, tolfenamic acid, tolmetin, tolnaftate, toloxatone, tolperisone, tolterodine, tolvaptan, topiramate, topiroxostat, topotecan, torasemide, toremifene, trabectedin, tramadol, trametinib, trandolapril, tranexamic acid, tranilast, tranylcypromine, trapidil, travoprost, trazodone, treprostinil, tretinoin, triamcinolone, triamterene, triazolam, trichlormethiazide, trichloroethylene, triethylenetetramine, trifluoperazine, triflupromazine, trifluridine, triflusal, trihexyphenidyl, trilostane, trimetazidine, trimethadione, trimethaphan, trimethobenzamide, trimethoprim, trimetrexate, trimipramine, trioxsalen, tripelennamine, triprolidine, triptorelin, trolamine, trolamine salicylate, troleandomycin, tromethamine, tropicamide, tropisetron, trospium, trovafloxacin, tryptophan, tubocurarine, ubidecarenone, udenafil, ulipristal, ulobetasol, umeclidinium, unoprostone, uracil mustard, ursodeoxycholic acid, valaciclovir, valbenazine, valganciclovir, valproic acid, valrubicin, valsartan, vancomycin, vandetanib, vapreotide, vardenafil, varenicline, vecuronium, velpatasvir, vemurafenib, venetoclax, venlafaxine, verapamil, vernakalant, verteporfin, vigabatrin, vilanterol, vilazodone, vildagliptin, viloxazine, vinblastine, vincristine, vindesine, vinflunine, vinorelbine, viomycin, vismodegib, vitamin a, vitamin e, voglibose, vorapaxar, voriconazole, vorinostat, vortioxetine, voxilaprevir, warfarin, ximelagatran, xylometazoline, yohimbine, zafirlukast, zalcitabine, zaleplon, zaltoprofen, zidovudine, zileuton, zinc oxide, zinc sulfate, ziprasidone, zoledronic acid, zolmitriptan, zolpidem, zonisamide, zopiclone, zotepine, zucapsaicin, zuclopenthixol\n"
     ]
    },
    {
     "name": "stdin",
     "output_type": "stream",
     "text": [
      "\n",
      "Please enter combination from the above (comma-separated):  Amiodarone, Warfarin, Clarithromycin\n"
     ]
    },
    {
     "name": "stdout",
     "output_type": "stream",
     "text": [
      "\n",
      " Checking medications: Amiodarone, Warfarin, Clarithromycin\n",
      "\n",
      " Interaction Warnings:\n",
      "[UNKNOWN] Amiodarone + Warfarin → Warfarin may increase the anticoagulant activities of Amiodarone.\n",
      "[UNKNOWN] Amiodarone + Clarithromycin → The metabolism of Clarithromycin can be decreased when combined with Amiodarone.\n",
      "[UNKNOWN] Warfarin + Clarithromycin → The metabolism of Clarithromycin can be decreased when combined with Warfarin.\n"
     ]
    }
   ],
   "source": [
    "\n",
    "available_drugs = sorted(set(db.interactions.keys()))\n",
    "flat_drug_list = sorted(set([drug for pair in available_drugs for drug in pair]))\n",
    "\n",
    "\n",
    "print(\" Available medications in the database:\")\n",
    "print(', '.join(flat_drug_list))\n",
    "\n",
    "\n",
    "user_input = input(\"\\nPlease enter combination from the above (comma-separated): \")\n",
    "med_list = [m.strip() for m in user_input.split(',')]\n",
    "\n",
    "\n",
    "print(f\"\\n Checking medications: {', '.join(med_list)}\\n\")\n",
    "interactions = checker.check(med_list)\n",
    "sorted_alerts = alerter.sort_alerts(interactions)\n",
    "alerter.display(sorted_alerts)\n"
   ]
  },
  {
   "cell_type": "code",
   "execution_count": null,
   "id": "d304eece-a3de-48ff-8e21-27329631d3a2",
   "metadata": {},
   "outputs": [],
   "source": []
  }
 ],
 "metadata": {
  "kernelspec": {
   "display_name": "Python 3 (ipykernel)",
   "language": "python",
   "name": "python3"
  },
  "language_info": {
   "codemirror_mode": {
    "name": "ipython",
    "version": 3
   },
   "file_extension": ".py",
   "mimetype": "text/x-python",
   "name": "python",
   "nbconvert_exporter": "python",
   "pygments_lexer": "ipython3",
   "version": "3.12.3"
  }
 },
 "nbformat": 4,
 "nbformat_minor": 5
}
